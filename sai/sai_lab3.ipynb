{
  "cells": [
    {
      "cell_type": "markdown",
      "metadata": {
        "id": "UsMLKLGdJD3R"
      },
      "source": [
        "# СИИ ЛР3. Задача классификации\n",
        "\n",
        "## Чураков А. А. P3331 409856\n",
        "\n",
        "\n",
        "[12 баллов]"
      ]
    },
    {
      "cell_type": "markdown",
      "source": [
        "## Предподготовка данных"
      ],
      "metadata": {
        "id": "95_ip1_6sKF5"
      }
    },
    {
      "cell_type": "code",
      "execution_count": 60,
      "metadata": {
        "colab": {
          "base_uri": "https://localhost:8080/"
        },
        "id": "xuj8ERGDukeQ",
        "outputId": "8c8ee3a8-fa30-4c49-da9c-344d263ecc68"
      },
      "outputs": [
        {
          "output_type": "stream",
          "name": "stdout",
          "text": [
            "  % Total    % Received % Xferd  Average Speed   Time    Time     Time  Current\n",
            "                                 Dload  Upload   Total   Spent    Left  Speed\n",
            "  0     0    0     0    0     0      0      0 --:--:-- --:--:-- --:--:--     0\n",
            "100  4821  100  4821    0     0  10675      0 --:--:-- --:--:-- --:--:-- 10675\n",
            "Archive:  mobile-phone-price.zip\n",
            "  inflating: Mobile phone price.csv  \n"
          ]
        }
      ],
      "source": [
        "!curl -L -o \"$(pwd)/mobile-phone-price.zip\" \"https://www.kaggle.com/api/v1/datasets/download/rkiattisak/mobile-phone-price\"\n",
        "!unzip -o mobile-phone-price.zip"
      ]
    },
    {
      "cell_type": "code",
      "execution_count": 61,
      "metadata": {
        "id": "E91J_G8F1nll"
      },
      "outputs": [],
      "source": [
        "import pandas as pd\n",
        "import numpy as np\n",
        "from sklearn.model_selection import train_test_split\n",
        "from sklearn.compose import ColumnTransformer\n",
        "from sklearn.preprocessing import OneHotEncoder\n",
        "from sklearn.linear_model import LogisticRegression\n",
        "from sklearn.metrics import accuracy_score, precision_score, recall_score, f1_score, confusion_matrix\n",
        "from sklearn.pipeline import Pipeline"
      ]
    },
    {
      "cell_type": "code",
      "execution_count": 62,
      "metadata": {
        "id": "eHSDfqCluoIX"
      },
      "outputs": [],
      "source": [
        "def load_and_clean_data(path: str = \"Mobile phone price.csv\")-> pd.DataFrame:\n",
        "  df = pd.read_csv(\"Mobile phone price.csv\").rename(columns=str.strip)\n",
        "\n",
        "  for col in [\"Storage\", \"RAM\"]:\n",
        "      df[col] = df[col].str.replace(r\"[^0-9]\", \"\", regex=True).astype(int)\n",
        "\n",
        "  df[\"Battery\"] = df[\"Battery Capacity (mAh)\"].astype(str).str.replace(r\"[^0-9]\", \"\", regex=True).astype(int)\n",
        "  df[\"Price\"] = df[\"Price ($)\"].astype(str).str.replace(r\"[^0-9]\", \"\", regex=True).astype(int)\n",
        "\n",
        "  df[\"Camera\"] = (\n",
        "      df[\"Camera (MP)\"]\n",
        "      .astype(str)\n",
        "      .str.replace(r\"[^0-9\\+]\", \"\", regex=True)\n",
        "      .str.split(\"+\")\n",
        "      .apply(lambda lst: sum(float(x) for x in lst if x.strip() != \"\"))\n",
        "  )\n",
        "\n",
        "  df[\"ScreenSize\"] = (\n",
        "      df[\"Screen Size (inches)\"]\n",
        "      .astype(str)\n",
        "      .str.replace(r\"[^0-9\\+\\.]\", \"\", regex=True)\n",
        "      .str.split(\"+\")\n",
        "      .apply(lambda lst: sum(float(x) for x in lst if x.strip() != \"\"))\n",
        "  )\n",
        "\n",
        "  df = df[[\"Brand\", \"Model\", \"Storage\", \"RAM\", \"ScreenSize\", \"Battery\", \"Camera\", \"Price\"]]\n",
        "\n",
        "  return df"
      ]
    },
    {
      "cell_type": "code",
      "execution_count": 63,
      "metadata": {
        "id": "MhVyM7MA14hm"
      },
      "outputs": [],
      "source": [
        "df = load_and_clean_data()"
      ]
    },
    {
      "cell_type": "markdown",
      "metadata": {
        "id": "ZPFX0LQQ4U-l"
      },
      "source": [
        "## Этапы\n",
        "\n",
        "<font color='DarkOrange'>**Задание 1 [баллов: 2]:**</font>\n",
        "\n",
        "Выберите датасет и задачу для него (классификация) - с Kaggle или UCI Machine Learning Repository (https://archive.ics.uci.edu/datasets).\n",
        "Важно: используйте более новые датасеты, кол-во объектов не менее 100.\n",
        "Лучше воспользоваться датасетом из предыдущих ЛР.\n",
        "\n",
        "Выберите (или сгенерите сами) признак, который будет целевым для бинарной классификации.\n",
        "\n",
        "Используйте LogisticRegression из sklearn. Задайте несколько параметров метода самостоятельно, поясните их назначение и причину выбора конкретных значений.\n",
        "Используйте несколько метрик, чтоб оценить результаты бинарной классификации (метрики, доступные в sklearn).\n",
        "\n",
        "----\n"
      ]
    },
    {
      "cell_type": "markdown",
      "metadata": {
        "id": "sb-NW-HwvPKM"
      },
      "source": [
        "Признак для бинарной классификации: будем считать, что телефоны с ценой выше 400 долларов — дорогие, а с ценой ниже 400 долларов — дешевые. Таким образом, целевой признак y будет бинарным: 0 — дешевый телефон (цена меньше 400 долларов), 1 — дорогой телефон (цена выше или равна 400 долларов)."
      ]
    },
    {
      "cell_type": "code",
      "execution_count": 64,
      "metadata": {
        "id": "8bWUBTUU2IA5"
      },
      "outputs": [],
      "source": [
        "numeric_features = [\"Storage\", \"RAM\", \"ScreenSize\", \"Battery\", \"Camera\"]\n",
        "categorical_features = [\"Brand\"]\n",
        "\n",
        "X = df.drop(columns=[\"Price\", \"Model\"])\n",
        "y = (df[\"Price\"] >= 400).astype(int)\n",
        "\n",
        "X_train, X_test, y_train, y_test = train_test_split(X, y, test_size=0.2, random_state=42)\n",
        "\n",
        "preprocessor = ColumnTransformer(\n",
        "    transformers=[(\"cat\",\n",
        "            OneHotEncoder(handle_unknown=\"ignore\"),\n",
        "            categorical_features)],\n",
        "    remainder=\"passthrough\",)\n",
        "\n",
        "model_lr = Pipeline(\n",
        "    steps=[\n",
        "        (\"preprocessor\", preprocessor),\n",
        "        (\"regressor\", LogisticRegression(solver='liblinear', max_iter=200)),\n",
        "    ]\n",
        ")\n",
        "\n",
        "model_lr.fit(X_train, y_train)\n",
        "\n",
        "y_pred = model_lr.predict(X_test)"
      ]
    },
    {
      "cell_type": "code",
      "execution_count": 65,
      "metadata": {
        "colab": {
          "base_uri": "https://localhost:8080/"
        },
        "id": "v2K__5JOvbPc",
        "outputId": "33a826e7-ee26-4db1-e4a7-a9791b960f7d"
      },
      "outputs": [
        {
          "output_type": "stream",
          "name": "stdout",
          "text": [
            "Accuracy: 0.9024\n",
            "Precision: 1.0000\n",
            "Recall: 0.6923\n",
            "F1 Score: 0.8182\n",
            "Confusion Matrix:\n",
            "[[56  0]\n",
            " [ 8 18]]\n"
          ]
        }
      ],
      "source": [
        "accuracy = accuracy_score(y_test, y_pred)\n",
        "precision = precision_score(y_test, y_pred)\n",
        "recall = recall_score(y_test, y_pred)\n",
        "f1 = f1_score(y_test, y_pred)\n",
        "conf_matrix = confusion_matrix(y_test, y_pred)\n",
        "\n",
        "print(f\"Accuracy: {accuracy:.4f}\")\n",
        "print(f\"Precision: {precision:.4f}\")\n",
        "print(f\"Recall: {recall:.4f}\")\n",
        "print(f\"F1 Score: {f1:.4f}\")\n",
        "print(f\"Confusion Matrix:\\n{conf_matrix}\")"
      ]
    },
    {
      "cell_type": "markdown",
      "metadata": {
        "id": "-eakPedP6Eik"
      },
      "source": [
        "<font color='DarkOrange'>**Задание 2 [баллов: 2]:**</font>\n",
        "\n",
        "Выполните бинарную классификацию аналогично тпредыдущему пункту с использованием SVM (SVC из sklearn, используйте kernel=‘linear’, сами подберите параметр регуляризации С и ответьте на вопрос, может ли/как может SVM учесть несбалансированность классов)\n"
      ]
    },
    {
      "cell_type": "code",
      "execution_count": 66,
      "metadata": {
        "colab": {
          "base_uri": "https://localhost:8080/"
        },
        "id": "7M8u0ojS2dxV",
        "outputId": "29bc100c-a3f6-43d4-c767-1e2ba9e97a3c"
      },
      "outputs": [
        {
          "output_type": "stream",
          "name": "stdout",
          "text": [
            "Accuracy: 0.8293\n",
            "Precision: 0.6667\n",
            "Recall: 0.9231\n",
            "F1 Score: 0.7742\n",
            "Confusion Matrix:\n",
            "[[44 12]\n",
            " [ 2 24]]\n"
          ]
        }
      ],
      "source": [
        "from sklearn.svm import SVC\n",
        "\n",
        "model_svc = Pipeline(\n",
        "        steps=[(\"preprocessor\", preprocessor),\n",
        "               (\"svm\", SVC(kernel='linear', C=1.0, class_weight='balanced'))]\n",
        "    )\n",
        "\n",
        "model_svc.fit(X_train, y_train)\n",
        "\n",
        "y_pred = model_svc.predict(X_test)\n",
        "\n",
        "accuracy = accuracy_score(y_test, y_pred)\n",
        "precision = precision_score(y_test, y_pred)\n",
        "recall = recall_score(y_test, y_pred)\n",
        "f1 = f1_score(y_test, y_pred)\n",
        "conf_matrix = confusion_matrix(y_test, y_pred)\n",
        "\n",
        "print(f\"Accuracy: {accuracy:.4f}\")\n",
        "print(f\"Precision: {precision:.4f}\")\n",
        "print(f\"Recall: {recall:.4f}\")\n",
        "print(f\"F1 Score: {f1:.4f}\")\n",
        "print(f\"Confusion Matrix:\\n{conf_matrix}\")"
      ]
    },
    {
      "cell_type": "markdown",
      "metadata": {
        "id": "0LB07XLqG_pG"
      },
      "source": [
        "<font color='DarkOrange'>**Задание 3 [баллов: 6]:**</font>\n",
        "\n",
        "1. Многоклассовая классификация. Дайте определения для подходов: микро, макро, взвешенный, пообъектный. Выполните расчёты вручную для слайда 43 (на примере любых 3 промежуточных AUC ROC, поясните, как из промежуточных характеристик получаются 4 финальных). В рамках детализации ОЦИФРУЙТЕ ROC: в Excel, отрисуйте линиями в Word или отрисуйте отдельными отрезками Python-кодом (не используйте готовые функции для ROC).\n",
        "[баллов: 2]\n",
        "\n",
        "2. Для одного из кейсов (одного класса) введите три порога бинаризации так, чтоб получились различные accuracy, recall, precision. Вычислите эти метрики вручную и сопроводите визуализацией расчёта для recall и precision (см пример из лекции с окружностями разных цветов и радиусов). По трём парам (precision, recall) постройте эскиз PR-кривой. [баллов: 2]\n",
        "\n",
        "3. Сделайте выводы по результатам расчётом AUC ROC для многоклассовой классификации (какой вариант лучше, почему, объясните падение AUC ROC при переходе к многоклассовым). [баллов: 1]\n",
        "\n",
        "4. В каких кейсах/доменах следует применять те или иные варианты? Запишите выводы. [баллов: 1]\n",
        "\n",
        "---"
      ]
    },
    {
      "cell_type": "markdown",
      "source": [
        "# 3.1"
      ],
      "metadata": {
        "id": "S87FbnjvzwBk"
      }
    },
    {
      "cell_type": "markdown",
      "metadata": {
        "id": "25f7ed60"
      },
      "source": [
        "*   **Микро-усреднение:** вычисление метрики глобально, считая общее количество True Positives - TP, False Positives - FP, False Negatives - FN результатов по всем классам. Затем метрика рассчитывается на основе этих суммарных значений. Микро-усреднение склонно давать большее значение метрикам для классов с большим количеством примеров.\n",
        "\n",
        "*   **Макро-усреднение:** метрика рассчитывается для каждого класса независимо, а затем берется среднее арифметическое этих значений. Каждый класс имеет одинаковый вес, независимо от его размера.\n",
        "\n",
        "*   **Взвешенное усреднение:** при расчете среднего значения метрик для каждого класса используется взвешивание по количеству примеров в каждом классе (или по другой заданной схеме весов). Таким образом, классы с большим количеством примеров вносят больший вклад в итоговую метрику.\n",
        "\n",
        "*   **Пообъектное усреднение:** Этот подход вычисляет метрику для каждого отдельного объекта и затем усредняет эти значения по всем объектам. Этот подход менее распространен для стандартных метрик классификации, которые обычно определяются на уровне классов или глобально, но может применяться для других типов метрик или в специфических задачах."
      ]
    },
    {
      "cell_type": "markdown",
      "source": [
        "Y =\n",
        "\n",
        "```\n",
        "[1 1 0]\n",
        "[0 1 1]\n",
        "[0 1 0]\n",
        "[1 0 0]\n",
        "```\n",
        "\n",
        "S =\n",
        "\n",
        "```\n",
        "[0.7 0.6 0.5]\n",
        "[0.3 0.4 0.6]\n",
        "[0.5 0.9 0.2]\n",
        "[0.4 0.5 0.1]\n",
        "```\n",
        "\n",
        "## AUC по классам\n",
        "\n",
        "$AUC = P{score(+) > score(−)} (ничьи = 0.5).$\n",
        "\n",
        "### class 1\n",
        "\n",
        "Плюсы (по Y): $x₀,x₃ → S = {0.7, 0.4}$\n",
        "\n",
        "Минусы: $x₁,x₂ → S = {0.3, 0.5}$\n",
        "\n",
        "Пары: $0.7>0.3 +, 0.7>0.5 +, 0.4>0.3 +, 0.4<0.5 - → 3/4 = 0.750$\n",
        "\n",
        "### class 2\n",
        "\n",
        "Плюсы: $x₀,x₁,x₂ → {0.6,0.4,0.9}$\n",
        "\n",
        "Минусы: $x₃ → {0.5}$\n",
        "\n",
        "Пары с $0.5: 0.6 +, 0.4 -, 0.9 + → 2/3 = 0.667$\n",
        "\n",
        "### class 3\n",
        "\n",
        "Плюсы: $x₁ → {0.6}$\n",
        "\n",
        "Минусы: $x₀,x₂,x₃ → {0.5,0.2,0.1}$\n",
        "\n",
        "Пары: $0.6>0.5 +, >0.2 +, >0.1 + → 3/3 = 1.000$\n",
        "\n",
        "Итого по классам: **[0.750, 0.667, 1.000]**.\n",
        "\n",
        "---\n",
        "\n",
        "### Macro\n",
        "\n",
        "Среднее по классам:\n",
        "$$\n",
        "\\frac{0.750+0.667+1.000}{3}= \\mathbf{0.806}\n",
        "$$\n",
        "\n",
        "### Weighted\n",
        "\n",
        "Вес = поддержка класса: w = [2,3,1].\n",
        "$$\n",
        "\\frac{2·0.750+3·0.667+1·1.000}{2+3+1}\n",
        "=\\frac{1.5+2.001+1}{6}=\\mathbf{0.750}\n",
        "$$\n",
        "\n",
        "### Micro\n",
        "\n",
        "Склеиваем все 12 «бинарных» примеров (все классы×объекты), считаем один AUC.\n",
        "\n",
        "Плюсы (все, где Y=1): ${0.7,0.4,0.6,0.4,0.9,0.6}$ (6 шт.)\n",
        "\n",
        "Минусы: ${0.3,0.5,0.5,0.5,0.2,0.1}$ (6 шт.)\n",
        "\n",
        "По ранговой формуле:\n",
        "$$\n",
        "\\mathrm{AUC}=\\frac{\\sum \\text{ranks}_+ - \\frac{6·7}{2}}{6·6}\n",
        "=\\frac{51-21}{36}=\\mathbf{0.833}\n",
        "$$\n",
        "\n",
        "### Samples\n",
        "\n",
        "Для каждой строки сравниваем score(+) vs score(−) внутри строки.\n",
        "\n",
        "* x₀: плюсы {0.7,0.6} vs минусы {0.5} → 2/2 = 1.0\n",
        "* x₁: {0.4,0.6} vs {0.3} → 2/2 = 1.0\n",
        "* x₂: {0.9} vs {0.5,0.2} → 2/2 = 1.0\n",
        "* x₃: {0.4} vs {0.5,0.1} → 1/2 = 0.5\n",
        "\n",
        "Среднее: $(1+1+1+0.5)/4=\\mathbf{0.875}$.\n",
        "\n",
        "---\n",
        "\n",
        "**Итог:**\n",
        "Per-class AUC = [**0.750, 0.667, 1.000**] →\n",
        "**macro 0.806, weighted 0.750, micro 0.833, samples 0.875**."
      ],
      "metadata": {
        "id": "k5SK8OoD0Pmg"
      }
    },
    {
      "cell_type": "code",
      "source": [
        "import numpy as np\n",
        "import matplotlib.pyplot as plt\n",
        "\n",
        "Y = np.array([\n",
        "    [1, 1, 0],\n",
        "    [0, 1, 1],\n",
        "    [0, 1, 0],\n",
        "    [1, 0, 0]\n",
        "])\n",
        "S = np.array([\n",
        "    [0.7, 0.6, 0.5],\n",
        "    [0.3, 0.4, 0.6],\n",
        "    [0.5, 0.9, 0.2],\n",
        "    [0.4, 0.5, 0.1]\n",
        "])\n",
        "\n",
        "def manual_roc(y_true, y_score):\n",
        "    thresholds = np.sort(np.unique(y_score))[::-1]\n",
        "    tpr, fpr = [], []\n",
        "    P = np.sum(y_true)\n",
        "    N = len(y_true) - P\n",
        "    for thr in thresholds:\n",
        "        y_pred = (y_score >= thr).astype(int)\n",
        "        TP = np.sum((y_true == 1) & (y_pred == 1))\n",
        "        FP = np.sum((y_true == 0) & (y_pred == 1))\n",
        "        TPR = TP / P if P else 0\n",
        "        FPR = FP / N if N else 0\n",
        "        tpr.append(TPR)\n",
        "        fpr.append(FPR)\n",
        "    # начало и конец кривой\n",
        "    tpr = [0] + tpr + [1]\n",
        "    fpr = [0] + fpr + [1]\n",
        "    return np.array(fpr), np.array(tpr)\n",
        "\n",
        "plt.figure(figsize=(5,4))\n",
        "for i in range(3):\n",
        "    fpr, tpr = manual_roc(Y[:, i], S[:, i])\n",
        "    auc = np.trapezoid(tpr, fpr)\n",
        "    plt.plot(fpr, tpr, marker='o', label=f'class {i+1} (AUC={auc:.3f})')\n",
        "\n",
        "plt.plot([0,1],[0,1],'k--',label='random')\n",
        "plt.xlabel('False Positive Rate')\n",
        "plt.ylabel('True Positive Rate')\n",
        "plt.title('ROC-кривые (расчёт вручную)')\n",
        "plt.legend()\n",
        "plt.grid(True)\n",
        "plt.show()\n"
      ],
      "metadata": {
        "colab": {
          "base_uri": "https://localhost:8080/",
          "height": 410
        },
        "id": "jWivD6eByusw",
        "outputId": "b8c2eb1f-245d-416f-94ee-0a4faf1b9727"
      },
      "execution_count": 67,
      "outputs": [
        {
          "output_type": "display_data",
          "data": {
            "text/plain": [
              "<Figure size 500x400 with 1 Axes>"
            ],
            "image/png": "[encoded data removed]"
          },
          "metadata": {}
        }
      ]
    },
    {
      "cell_type": "markdown",
      "source": [
        "## 3.2"
      ],
      "metadata": {
        "id": "86gKyhwU0FZm"
      }
    },
    {
      "cell_type": "markdown",
      "source": [
        "### class 1\n",
        "\n",
        "| Объект | y | s   |\n",
        "| ------ | - | --- |\n",
        "| x₀     | 1 | 0.7 |\n",
        "| x₁     | 0 | 0.3 |\n",
        "| x₂     | 0 | 0.5 |\n",
        "| x₃     | 1 | 0.4 |\n",
        "---\n",
        "\n",
        "| Порог | Предсказания (s≥thr) | TP | FP | FN | TN |\n",
        "| :---- | :------------------- | :- | :- | :- | :- |\n",
        "| 0.3   | [1 1 1 1]            | 2  | 2  | 0  | 0  |\n",
        "| 0.5   | [1 0 1 0]            | 1  | 1  | 1  | 1  |\n",
        "| 0.7   | [1 0 0 0]            | 1  | 0  | 1  | 2  |\n",
        "---\n",
        "| Порог | Accuracy       | Precision   | Recall      |\n",
        "| :---- | :------------- | :---------- | :---------- |\n",
        "| 0.3   | (2+0)/4 = 0.5  | 2/(2+2)=0.5 | 2/(2+0)=1.0 |\n",
        "| 0.5   | (1+1)/4 = 0.5  | 1/(1+1)=0.5 | 1/(1+1)=0.5 |\n",
        "| 0.7   | (1+2)/4 = 0.75 | 1/(1+0)=1.0 | 1/(1+1)=0.5 |\n"
      ],
      "metadata": {
        "id": "18DG7PFS0Xwu"
      }
    },
    {
      "cell_type": "code",
      "source": [
        "import numpy as np\n",
        "import matplotlib.pyplot as plt\n",
        "from sklearn.metrics import precision_recall_curve\n",
        "\n",
        "# === ДАННЫЕ ДЛЯ КЛАССА 1 ===\n",
        "y_true = np.array([1, 0, 0, 1])\n",
        "y_score = np.array([0.7, 0.3, 0.5, 0.4])\n",
        "\n",
        "# === РУЧНОЙ расчёт для трёх порогов ===\n",
        "thresholds = [0.3, 0.5, 0.7]\n",
        "manual_P, manual_R = [], []\n",
        "\n",
        "for thr in thresholds:\n",
        "    y_pred = (y_score >= thr).astype(int)\n",
        "    TP = np.sum((y_true == 1) & (y_pred == 1))\n",
        "    FP = np.sum((y_true == 0) & (y_pred == 1))\n",
        "    FN = np.sum((y_true == 1) & (y_pred == 0))\n",
        "    prec = TP / (TP + FP) if TP + FP > 0 else 0\n",
        "    rec = TP / (TP + FN) if TP + FN > 0 else 0\n",
        "    manual_P.append(prec)\n",
        "    manual_R.append(rec)\n",
        "\n",
        "# === sklearn ===\n",
        "prec_skl, rec_skl, thr_skl = precision_recall_curve(y_true, y_score)\n",
        "\n",
        "# === ГРАФИК PR-КРИВОЙ ===\n",
        "plt.figure(figsize=(6,5))\n",
        "plt.plot(rec_skl, prec_skl, 'r-', lw=2, label='sklearn')\n",
        "plt.plot(manual_R, manual_P, 'bo--', lw=1.5, label='ручной (3 порога)')\n",
        "plt.xlabel('Recall')\n",
        "plt.ylabel('Precision')\n",
        "plt.title('PR-кривая для class 1')\n",
        "plt.xlim(0,1.05)\n",
        "plt.ylim(0,1.05)\n",
        "plt.grid(True)\n",
        "plt.legend()\n",
        "plt.show()\n"
      ],
      "metadata": {
        "colab": {
          "base_uri": "https://localhost:8080/",
          "height": 487
        },
        "id": "yYX6--_F1ARL",
        "outputId": "9b583d87-8b5a-4142-943e-71b13bea30b7"
      },
      "execution_count": 68,
      "outputs": [
        {
          "output_type": "display_data",
          "data": {
            "text/plain": [
              "<Figure size 600x500 with 1 Axes>"
            ],
            "image/png": "[encoded data removed]"
          },
          "metadata": {}
        }
      ]
    },
    {
      "cell_type": "markdown",
      "source": [
        "## 3.3"
      ],
      "metadata": {
        "id": "jd64DXIG2DCa"
      }
    },
    {
      "cell_type": "markdown",
      "source": [
        "**Выводы:**\n",
        "\n",
        "1. Для каждого класса мы получили AUC ROC:\n",
        "   \n",
        "   $class_1 = 0.75, class_2 = 0.67, class_3 = 1.00.$\n",
        "\n",
        "   Это показывает, что модель уверенно различает класс 3, но путает классы 1 и 2.\n",
        "\n",
        "2. Итоговые усреднения:\n",
        "   - **macro ≈ 0.81** (средняя способность отличать классы, без учёта их частоты),\n",
        "   - **weighted ≈ 0.75** (учитывает дисбаланс классов),\n",
        "   - **micro ≈ 0.83** (в целом по всем объектам),\n",
        "   - **samples ≈ 0.88** (по каждому объекту отдельно).\n",
        "\n",
        "3. **Лучше всего** работает подход **micro**, так как он агрегирует все примеры и сглаживает разброс между классами.\n",
        "\n",
        "4. **Падение AUC ROC** при переходе от бинарной к многоклассовой классификации связано с тем, что:\n",
        "   - при каждом сравнении \"один против всех\" часть данных становится «шумом»;\n",
        "   - границы между классами сложнее, и ошибки на соседних классах чаще;\n",
        "   - метрика усредняет результаты по всем классам, снижая итоговую оценку.\n",
        "\n",
        "Таким образом, многоклассовая постановка обычно даёт меньший AUC ROC, так как разделение нескольких классов по вероятностям сложнее, чем бинарное «да/нет».\n"
      ],
      "metadata": {
        "id": "uuA5BLR72EMl"
      }
    },
    {
      "cell_type": "markdown",
      "source": [
        "## 3.4"
      ],
      "metadata": {
        "id": "LUyIb9UK2i0N"
      }
    },
    {
      "cell_type": "markdown",
      "source": [
        "1. **Micro averaging** —\n",
        "   Используется, когда важна **общая производительность модели** на всех примерах,\n",
        "   особенно при **сильном дисбалансе классов**.\n",
        "   Примеры: детекция спама, медицинские тесты, дефекты на конвейере.\n",
        "\n",
        "2. **Macro averaging** —\n",
        "   Подходит, если нужно **равно оценить качество по каждому классу**, независимо от их частоты.\n",
        "   Примеры: анализ тональности (positive/neutral/negative), диагностика по редким заболеваниям.\n",
        "\n",
        "3. **Weighted averaging** —\n",
        "   Компромисс между micro и macro, учитывает частоту классов.\n",
        "   Примеры: крупные бизнес-данные, где классы не сбалансированы, но важна общая точность (например, прогноз churn vs non-churn).\n",
        "\n",
        "4. **Samples (пообъектный)** —\n",
        "   Применяется в **multi-label задачах**, когда у одного объекта может быть несколько меток.\n",
        "   Примеры: рекомендательные системы (жанры фильма), классификация изображений с несколькими объектами.\n",
        "\n",
        "Выбор усреднения зависит от цели:\n",
        "- если важно **равное внимание к классам** -> *macro*\n",
        "- если важно **качество на всех примерах** -> *micro*\n",
        "- если **есть дисбаланс** -> *weighted*\n",
        "- если **несколько меток у объекта** -> *samples*"
      ],
      "metadata": {
        "id": "b7n0rdrb2j3I"
      }
    },
    {
      "cell_type": "markdown",
      "metadata": {
        "id": "gmIx2v8ZJd9E"
      },
      "source": [
        "<font color='DarkOrange'>**Задание 4 [баллов: 2]:**</font>\n",
        "\n",
        "Исследуйте вопрос выбросов/новизны для данных в вашем датасете с использованием OneClassSVM (дайте краткую теоретическую характеристику, используйте готовые решения для получения результатов, сделайте выводы)\n",
        "\n",
        "Материалы:\n",
        "1) https://scikit-learn.ru/stable/modules/outlier_detection.html,\n",
        "2) https://alexanderdyakonov.wordpress.com/, Поиск аномалий\n",
        "---"
      ]
    },
    {
      "cell_type": "markdown",
      "source": [
        "**OneClassSVM** — метод обнаружения аномалий (outliers, novelties).\n",
        "Он обучается только на «нормальных» данных, строит границу (гиперплоскость), отделяющую большинство точек от остального пространства.\n",
        "Если точка лежит далеко за границей, она считается аномальной.\n",
        "Используется в задачах: обнаружение мошенничества, дефектов, редких устройств и др."
      ],
      "metadata": {
        "id": "qUydw2m44VPf"
      }
    },
    {
      "cell_type": "code",
      "source": [
        "import pandas as pd\n",
        "from sklearn.preprocessing import OneHotEncoder, StandardScaler, MinMaxScaler, RobustScaler\n",
        "from sklearn.compose import ColumnTransformer\n",
        "from sklearn.pipeline import Pipeline\n",
        "from sklearn.svm import OneClassSVM\n",
        "import matplotlib.pyplot as plt\n",
        "\n",
        "df = load_and_clean_data()\n",
        "\n",
        "numeric_features = [\"Storage\", \"RAM\", \"ScreenSize\", \"Battery\", \"Camera\"]\n",
        "categorical_features = [\"Brand\"]\n",
        "X = df.drop(columns=[\"Price\", \"Model\"])\n",
        "\n",
        "preprocessor = ColumnTransformer([\n",
        "    (\"num\", MinMaxScaler(), numeric_features),\n",
        "    (\"cat\", OneHotEncoder(handle_unknown=\"ignore\"), categorical_features)\n",
        "])\n",
        "\n",
        "pipeline = Pipeline([\n",
        "    (\"prep\", preprocessor),\n",
        "    (\"ocsvm\", OneClassSVM(kernel=\"rbf\", gamma=\"auto\", nu=0.05))  # nu=доля выбросов\n",
        "])\n",
        "\n",
        "pipeline.fit(X)\n",
        "pred = pipeline.named_steps[\"ocsvm\"].predict(preprocessor.transform(X))\n",
        "\n",
        "# --- Добавим результаты ---\n",
        "df[\"Anomaly\"] = (pred == -1)\n",
        "outliers = df[df[\"Anomaly\"]]\n",
        "\n",
        "print(f\"Выбросов найдено: {outliers.shape[0]} ({outliers.shape[0]/len(df)*100:.1f}% от всех записей)\")\n",
        "display(outliers.head())\n",
        "\n",
        "# --- Визуализация (пример: батарея vs цена) ---\n",
        "colors = np.where(df[\"Anomaly\"], \"red\", \"blue\")\n",
        "\n",
        "plt.figure(figsize=(7,5))\n",
        "plt.scatter(df[\"Battery\"], df[\"Camera\"], c=colors, alpha=0.6, s=60, edgecolors=\"k\")\n",
        "plt.xlabel(\"Battery (mAh)\")\n",
        "plt.ylabel(\"Camera (MP)\")\n",
        "plt.title(\"One-Class SVM: красные точки — аномалии\")\n",
        "plt.grid(True)\n",
        "plt.show()"
      ],
      "metadata": {
        "colab": {
          "base_uri": "https://localhost:8080/",
          "height": 694
        },
        "id": "qbbM-GJo429y",
        "outputId": "9646a8b4-3ad5-4f1a-dc40-4a172d6c5de2"
      },
      "execution_count": 69,
      "outputs": [
        {
          "output_type": "stream",
          "name": "stdout",
          "text": [
            "Выбросов найдено: 23 (5.7% от всех записей)\n"
          ]
        },
        {
          "output_type": "display_data",
          "data": {
            "text/plain": [
              "       Brand                Model  Storage  RAM  ScreenSize  Battery  Camera  \\\n",
              "4     Google              Pixel 6      128    8         6.4     4614   172.0   \n",
              "32     Apple  iPhone SE (2nd Gen)       64    3         4.7     1821    12.0   \n",
              "62     Apple     iPhone SE (2020)       64    3         4.7     1821    12.0   \n",
              "85  Motorola          Edge 20 Pro      256   12         6.7     4500   132.0   \n",
              "88        LG                 Wing      256    8        10.7     4000    89.0   \n",
              "\n",
              "    Price  Anomaly  \n",
              "4     799     True  \n",
              "32    399     True  \n",
              "62    399     True  \n",
              "85    699     True  \n",
              "88    999     True  "
            ],
            "text/html": [
              "\n",
              "  <div id=\"df-8029c660-e880-4261-8fd9-0e3fd04ebd0c\" class=\"colab-df-container\">\n",
              "    <div>\n",
              "<style scoped>\n",
              "    .dataframe tbody tr th:only-of-type {\n",
              "        vertical-align: middle;\n",
              "    }\n",
              "\n",
              "    .dataframe tbody tr th {\n",
              "        vertical-align: top;\n",
              "    }\n",
              "\n",
              "    .dataframe thead th {\n",
              "        text-align: right;\n",
              "    }\n",
              "</style>\n",
              "<table border=\"1\" class=\"dataframe\">\n",
              "  <thead>\n",
              "    <tr style=\"text-align: right;\">\n",
              "      <th></th>\n",
              "      <th>Brand</th>\n",
              "      <th>Model</th>\n",
              "      <th>Storage</th>\n",
              "      <th>RAM</th>\n",
              "      <th>ScreenSize</th>\n",
              "      <th>Battery</th>\n",
              "      <th>Camera</th>\n",
              "      <th>Price</th>\n",
              "      <th>Anomaly</th>\n",
              "    </tr>\n",
              "  </thead>\n",
              "  <tbody>\n",
              "    <tr>\n",
              "      <th>4</th>\n",
              "      <td>Google</td>\n",
              "      <td>Pixel 6</td>\n",
              "      <td>128</td>\n",
              "      <td>8</td>\n",
              "      <td>6.4</td>\n",
              "      <td>4614</td>\n",
              "      <td>172.0</td>\n",
              "      <td>799</td>\n",
              "      <td>True</td>\n",
              "    </tr>\n",
              "    <tr>\n",
              "      <th>32</th>\n",
              "      <td>Apple</td>\n",
              "      <td>iPhone SE (2nd Gen)</td>\n",
              "      <td>64</td>\n",
              "      <td>3</td>\n",
              "      <td>4.7</td>\n",
              "      <td>1821</td>\n",
              "      <td>12.0</td>\n",
              "      <td>399</td>\n",
              "      <td>True</td>\n",
              "    </tr>\n",
              "    <tr>\n",
              "      <th>62</th>\n",
              "      <td>Apple</td>\n",
              "      <td>iPhone SE (2020)</td>\n",
              "      <td>64</td>\n",
              "      <td>3</td>\n",
              "      <td>4.7</td>\n",
              "      <td>1821</td>\n",
              "      <td>12.0</td>\n",
              "      <td>399</td>\n",
              "      <td>True</td>\n",
              "    </tr>\n",
              "    <tr>\n",
              "      <th>85</th>\n",
              "      <td>Motorola</td>\n",
              "      <td>Edge 20 Pro</td>\n",
              "      <td>256</td>\n",
              "      <td>12</td>\n",
              "      <td>6.7</td>\n",
              "      <td>4500</td>\n",
              "      <td>132.0</td>\n",
              "      <td>699</td>\n",
              "      <td>True</td>\n",
              "    </tr>\n",
              "    <tr>\n",
              "      <th>88</th>\n",
              "      <td>LG</td>\n",
              "      <td>Wing</td>\n",
              "      <td>256</td>\n",
              "      <td>8</td>\n",
              "      <td>10.7</td>\n",
              "      <td>4000</td>\n",
              "      <td>89.0</td>\n",
              "      <td>999</td>\n",
              "      <td>True</td>\n",
              "    </tr>\n",
              "  </tbody>\n",
              "</table>\n",
              "</div>\n",
              "    <div class=\"colab-df-buttons\">\n",
              "\n",
              "  <div class=\"colab-df-container\">\n",
              "    <button class=\"colab-df-convert\" onclick=\"convertToInteractive('df-8029c660-e880-4261-8fd9-0e3fd04ebd0c')\"\n",
              "            title=\"Convert this dataframe to an interactive table.\"\n",
              "            style=\"display:none;\">\n",
              "\n",
              "  <svg xmlns=\"http://www.w3.org/2000/svg\" height=\"24px\" viewBox=\"0 -960 960 960\">\n",
              "    <path d=\"M120-120v-720h720v720H120Zm60-500h600v-160H180v160Zm220 220h160v-160H400v160Zm0 220h160v-160H400v160ZM180-400h160v-160H180v160Zm440 0h160v-160H620v160ZM180-180h160v-160H180v160Zm440 0h160v-160H620v160Z\"/>\n",
              "  </svg>\n",
              "    </button>\n",
              "\n",
              "  <style>\n",
              "    .colab-df-container {\n",
              "      display:flex;\n",
              "      gap: 12px;\n",
              "    }\n",
              "\n",
              "    .colab-df-convert {\n",
              "      background-color: #E8F0FE;\n",
              "      border: none;\n",
              "      border-radius: 50%;\n",
              "      cursor: pointer;\n",
              "      display: none;\n",
              "      fill: #1967D2;\n",
              "      height: 32px;\n",
              "      padding: 0 0 0 0;\n",
              "      width: 32px;\n",
              "    }\n",
              "\n",
              "    .colab-df-convert:hover {\n",
              "      background-color: #E2EBFA;\n",
              "      box-shadow: 0px 1px 2px rgba(60, 64, 67, 0.3), 0px 1px 3px 1px rgba(60, 64, 67, 0.15);\n",
              "      fill: #174EA6;\n",
              "    }\n",
              "\n",
              "    .colab-df-buttons div {\n",
              "      margin-bottom: 4px;\n",
              "    }\n",
              "\n",
              "    [theme=dark] .colab-df-convert {\n",
              "      background-color: #3B4455;\n",
              "      fill: #D2E3FC;\n",
              "    }\n",
              "\n",
              "    [theme=dark] .colab-df-convert:hover {\n",
              "      background-color: #434B5C;\n",
              "      box-shadow: 0px 1px 3px 1px rgba(0, 0, 0, 0.15);\n",
              "      filter: drop-shadow(0px 1px 2px rgba(0, 0, 0, 0.3));\n",
              "      fill: #FFFFFF;\n",
              "    }\n",
              "  </style>\n",
              "\n",
              "    <script>\n",
              "      const buttonEl =\n",
              "        document.querySelector('#df-8029c660-e880-4261-8fd9-0e3fd04ebd0c button.colab-df-convert');\n",
              "      buttonEl.style.display =\n",
              "        google.colab.kernel.accessAllowed ? 'block' : 'none';\n",
              "\n",
              "      async function convertToInteractive(key) {\n",
              "        const element = document.querySelector('#df-8029c660-e880-4261-8fd9-0e3fd04ebd0c');\n",
              "        const dataTable =\n",
              "          await google.colab.kernel.invokeFunction('convertToInteractive',\n",
              "                                                    [key], {});\n",
              "        if (!dataTable) return;\n",
              "\n",
              "        const docLinkHtml = 'Like what you see? Visit the ' +\n",
              "          '<a target=\"_blank\" href=https://colab.research.google.com/notebooks/data_table.ipynb>data table notebook</a>'\n",
              "          + ' to learn more about interactive tables.';\n",
              "        element.innerHTML = '';\n",
              "        dataTable['output_type'] = 'display_data';\n",
              "        await google.colab.output.renderOutput(dataTable, element);\n",
              "        const docLink = document.createElement('div');\n",
              "        docLink.innerHTML = docLinkHtml;\n",
              "        element.appendChild(docLink);\n",
              "      }\n",
              "    </script>\n",
              "  </div>\n",
              "\n",
              "\n",
              "    <div id=\"df-3ef24a1a-5e7c-45d9-92a4-681856546b30\">\n",
              "      <button class=\"colab-df-quickchart\" onclick=\"quickchart('df-3ef24a1a-5e7c-45d9-92a4-681856546b30')\"\n",
              "                title=\"Suggest charts\"\n",
              "                style=\"display:none;\">\n",
              "\n",
              "<svg xmlns=\"http://www.w3.org/2000/svg\" height=\"24px\"viewBox=\"0 0 24 24\"\n",
              "     width=\"24px\">\n",
              "    <g>\n",
              "        <path d=\"M19 3H5c-1.1 0-2 .9-2 2v14c0 1.1.9 2 2 2h14c1.1 0 2-.9 2-2V5c0-1.1-.9-2-2-2zM9 17H7v-7h2v7zm4 0h-2V7h2v10zm4 0h-2v-4h2v4z\"/>\n",
              "    </g>\n",
              "</svg>\n",
              "      </button>\n",
              "\n",
              "<style>\n",
              "  .colab-df-quickchart {\n",
              "      --bg-color: #E8F0FE;\n",
              "      --fill-color: #1967D2;\n",
              "      --hover-bg-color: #E2EBFA;\n",
              "      --hover-fill-color: #174EA6;\n",
              "      --disabled-fill-color: #AAA;\n",
              "      --disabled-bg-color: #DDD;\n",
              "  }\n",
              "\n",
              "  [theme=dark] .colab-df-quickchart {\n",
              "      --bg-color: #3B4455;\n",
              "      --fill-color: #D2E3FC;\n",
              "      --hover-bg-color: #434B5C;\n",
              "      --hover-fill-color: #FFFFFF;\n",
              "      --disabled-bg-color: #3B4455;\n",
              "      --disabled-fill-color: #666;\n",
              "  }\n",
              "\n",
              "  .colab-df-quickchart {\n",
              "    background-color: var(--bg-color);\n",
              "    border: none;\n",
              "    border-radius: 50%;\n",
              "    cursor: pointer;\n",
              "    display: none;\n",
              "    fill: var(--fill-color);\n",
              "    height: 32px;\n",
              "    padding: 0;\n",
              "    width: 32px;\n",
              "  }\n",
              "\n",
              "  .colab-df-quickchart:hover {\n",
              "    background-color: var(--hover-bg-color);\n",
              "    box-shadow: 0 1px 2px rgba(60, 64, 67, 0.3), 0 1px 3px 1px rgba(60, 64, 67, 0.15);\n",
              "    fill: var(--button-hover-fill-color);\n",
              "  }\n",
              "\n",
              "  .colab-df-quickchart-complete:disabled,\n",
              "  .colab-df-quickchart-complete:disabled:hover {\n",
              "    background-color: var(--disabled-bg-color);\n",
              "    fill: var(--disabled-fill-color);\n",
              "    box-shadow: none;\n",
              "  }\n",
              "\n",
              "  .colab-df-spinner {\n",
              "    border: 2px solid var(--fill-color);\n",
              "    border-color: transparent;\n",
              "    border-bottom-color: var(--fill-color);\n",
              "    animation:\n",
              "      spin 1s steps(1) infinite;\n",
              "  }\n",
              "\n",
              "  @keyframes spin {\n",
              "    0% {\n",
              "      border-color: transparent;\n",
              "      border-bottom-color: var(--fill-color);\n",
              "      border-left-color: var(--fill-color);\n",
              "    }\n",
              "    20% {\n",
              "      border-color: transparent;\n",
              "      border-left-color: var(--fill-color);\n",
              "      border-top-color: var(--fill-color);\n",
              "    }\n",
              "    30% {\n",
              "      border-color: transparent;\n",
              "      border-left-color: var(--fill-color);\n",
              "      border-top-color: var(--fill-color);\n",
              "      border-right-color: var(--fill-color);\n",
              "    }\n",
              "    40% {\n",
              "      border-color: transparent;\n",
              "      border-right-color: var(--fill-color);\n",
              "      border-top-color: var(--fill-color);\n",
              "    }\n",
              "    60% {\n",
              "      border-color: transparent;\n",
              "      border-right-color: var(--fill-color);\n",
              "    }\n",
              "    80% {\n",
              "      border-color: transparent;\n",
              "      border-right-color: var(--fill-color);\n",
              "      border-bottom-color: var(--fill-color);\n",
              "    }\n",
              "    90% {\n",
              "      border-color: transparent;\n",
              "      border-bottom-color: var(--fill-color);\n",
              "    }\n",
              "  }\n",
              "</style>\n",
              "\n",
              "      <script>\n",
              "        async function quickchart(key) {\n",
              "          const quickchartButtonEl =\n",
              "            document.querySelector('#' + key + ' button');\n",
              "          quickchartButtonEl.disabled = true;  // To prevent multiple clicks.\n",
              "          quickchartButtonEl.classList.add('colab-df-spinner');\n",
              "          try {\n",
              "            const charts = await google.colab.kernel.invokeFunction(\n",
              "                'suggestCharts', [key], {});\n",
              "          } catch (error) {\n",
              "            console.error('Error during call to suggestCharts:', error);\n",
              "          }\n",
              "          quickchartButtonEl.classList.remove('colab-df-spinner');\n",
              "          quickchartButtonEl.classList.add('colab-df-quickchart-complete');\n",
              "        }\n",
              "        (() => {\n",
              "          let quickchartButtonEl =\n",
              "            document.querySelector('#df-3ef24a1a-5e7c-45d9-92a4-681856546b30 button');\n",
              "          quickchartButtonEl.style.display =\n",
              "            google.colab.kernel.accessAllowed ? 'block' : 'none';\n",
              "        })();\n",
              "      </script>\n",
              "    </div>\n",
              "\n",
              "    </div>\n",
              "  </div>\n"
            ],
            "application/vnd.google.colaboratory.intrinsic+json": {
              "type": "dataframe",
              "summary": "{\n  \"name\": \"plt\",\n  \"rows\": 5,\n  \"fields\": [\n    {\n      \"column\": \"Brand\",\n      \"properties\": {\n        \"dtype\": \"string\",\n        \"num_unique_values\": 4,\n        \"samples\": [\n          \"Apple\",\n          \"LG\",\n          \"Google\"\n        ],\n        \"semantic_type\": \"\",\n        \"description\": \"\"\n      }\n    },\n    {\n      \"column\": \"Model\",\n      \"properties\": {\n        \"dtype\": \"string\",\n        \"num_unique_values\": 5,\n        \"samples\": [\n          \"iPhone SE (2nd Gen)\",\n          \"Wing\",\n          \"iPhone SE (2020)\"\n        ],\n        \"semantic_type\": \"\",\n        \"description\": \"\"\n      }\n    },\n    {\n      \"column\": \"Storage\",\n      \"properties\": {\n        \"dtype\": \"number\",\n        \"std\": 97,\n        \"min\": 64,\n        \"max\": 256,\n        \"num_unique_values\": 3,\n        \"samples\": [\n          128,\n          64,\n          256\n        ],\n        \"semantic_type\": \"\",\n        \"description\": \"\"\n      }\n    },\n    {\n      \"column\": \"RAM\",\n      \"properties\": {\n        \"dtype\": \"number\",\n        \"std\": 3,\n        \"min\": 3,\n        \"max\": 12,\n        \"num_unique_values\": 3,\n        \"samples\": [\n          8,\n          3,\n          12\n        ],\n        \"semantic_type\": \"\",\n        \"description\": \"\"\n      }\n    },\n    {\n      \"column\": \"ScreenSize\",\n      \"properties\": {\n        \"dtype\": \"number\",\n        \"std\": 2.453161225847172,\n        \"min\": 4.7,\n        \"max\": 10.7,\n        \"num_unique_values\": 4,\n        \"samples\": [\n          4.7,\n          10.7,\n          6.4\n        ],\n        \"semantic_type\": \"\",\n        \"description\": \"\"\n      }\n    },\n    {\n      \"column\": \"Battery\",\n      \"properties\": {\n        \"dtype\": \"number\",\n        \"std\": 1415,\n        \"min\": 1821,\n        \"max\": 4614,\n        \"num_unique_values\": 4,\n        \"samples\": [\n          1821,\n          4000,\n          4614\n        ],\n        \"semantic_type\": \"\",\n        \"description\": \"\"\n      }\n    },\n    {\n      \"column\": \"Camera\",\n      \"properties\": {\n        \"dtype\": \"number\",\n        \"std\": 71.48286507968186,\n        \"min\": 12.0,\n        \"max\": 172.0,\n        \"num_unique_values\": 4,\n        \"samples\": [\n          12.0,\n          89.0,\n          172.0\n        ],\n        \"semantic_type\": \"\",\n        \"description\": \"\"\n      }\n    },\n    {\n      \"column\": \"Price\",\n      \"properties\": {\n        \"dtype\": \"number\",\n        \"std\": 260,\n        \"min\": 399,\n        \"max\": 999,\n        \"num_unique_values\": 4,\n        \"samples\": [\n          399,\n          999,\n          799\n        ],\n        \"semantic_type\": \"\",\n        \"description\": \"\"\n      }\n    },\n    {\n      \"column\": \"Anomaly\",\n      \"properties\": {\n        \"dtype\": \"boolean\",\n        \"num_unique_values\": 1,\n        \"samples\": [\n          true\n        ],\n        \"semantic_type\": \"\",\n        \"description\": \"\"\n      }\n    }\n  ]\n}"
            }
          },
          "metadata": {}
        },
        {
          "output_type": "display_data",
          "data": {
            "text/plain": [
              "<Figure size 700x500 with 1 Axes>"
            ],
            "image/png": "[encoded data removed]"
          },
          "metadata": {}
        }
      ]
    },
    {
      "cell_type": "markdown",
      "source": [
        "Выводы\n",
        "\n",
        "- OneClassSVM выделяет устройства, чьи характеристики (например, батарея, камера, экран) сильно отклоняются от основной массы.\n",
        "\n",
        "- Количество выбросов обычно составляет 3–8 % (в зависимости от nu).\n",
        "\n",
        "- На графике красные точки — смартфоны с нехарактерным сочетанием признаков (например, дешёвые, но с очень мощной камерой).\n",
        "\n",
        "Метод полезен для:\n",
        "\n",
        "- выявления ошибочных или подозрительных записей в данных,\n",
        "\n",
        "- анализа новизны устройств (модели, сильно отличающиеся по параметрам от типичных)."
      ],
      "metadata": {
        "id": "5yMPUnLB6V_6"
      }
    }
  ],
  "metadata": {
    "accelerator": "GPU",
    "colab": {
      "gpuType": "T4",
      "provenance": []
    },
    "kernelspec": {
      "display_name": "Python 3",
      "name": "python3"
    },
    "language_info": {
      "name": "python"
    }
  },
  "nbformat": 4,
  "nbformat_minor": 0
}